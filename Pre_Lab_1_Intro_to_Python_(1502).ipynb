{
  "nbformat": 4,
  "nbformat_minor": 0,
  "metadata": {
    "colab": {
      "provenance": [],
      "collapsed_sections": [
        "xv1AVh_nonyv"
      ],
      "include_colab_link": true
    },
    "kernelspec": {
      "name": "python3",
      "display_name": "Python 3"
    }
  },
  "cells": [
    {
      "cell_type": "markdown",
      "metadata": {
        "id": "view-in-github",
        "colab_type": "text"
      },
      "source": [
        "<a href=\"https://colab.research.google.com/github/Bobby2122/CS50/blob/main/Pre_Lab_1_Intro_to_Python_(1502).ipynb\" target=\"_parent\"><img src=\"https://colab.research.google.com/assets/colab-badge.svg\" alt=\"Open In Colab\"/></a>"
      ]
    },
    {
      "cell_type": "code",
      "source": [],
      "metadata": {
        "id": "t9FzNEHdb7ZC"
      },
      "execution_count": null,
      "outputs": []
    },
    {
      "cell_type": "code",
      "source": [],
      "metadata": {
        "id": "8d12Sttrb7HT"
      },
      "execution_count": null,
      "outputs": []
    },
    {
      "cell_type": "markdown",
      "metadata": {
        "id": "I6AhwW2EffYJ"
      },
      "source": [
        "<h1><center>$\\text{Pre-Lab 1: Introduction to Python}$</center></h1>"
      ]
    },
    {
      "cell_type": "code",
      "metadata": {
        "cellView": "form",
        "id": "283ie3YBWicC"
      },
      "source": [
        "#@title <font color=\"red\"> Make a copy of this file before proceeding!\n",
        "Section = \"Select your section\" # @param [\"Select your section\", \"001 - MoWeTh 8am-9:55am\", \"002 - MoWeTh 10:10am-12:05pm\", \"003 - MoWeTh 12:20pm-2:15pm\", \"004 - MoWeTh 2:30pm-4:25pm\", \"005 - MoWeTh 4:40pm-6:35pm\", \"006 - TuThFr 8am-9:55am\", \"007 - TuThFr 10:10am-12:05pm\", \"008 - TuThFr 12:20pm-2:15pm\"]\n",
        "Name = \"\" #@param {type:\"string\"}"
      ],
      "execution_count": null,
      "outputs": []
    },
    {
      "cell_type": "markdown",
      "metadata": {
        "id": "NgQ7tarKQvRb"
      },
      "source": [
        "This pre-lab is a review of material you have used in previous courses.  For a full review of Python, see the \"Introduction to Python\" and \"Data Structures and Plotting\" sections of your lab manual.  Use the information in these sections of your lab manual to answer the following questions."
      ]
    },
    {
      "cell_type": "markdown",
      "metadata": {
        "id": "xI6o3Zvu1ueS"
      },
      "source": [
        "\n",
        "\n",
        "---\n",
        "\n",
        "# $\\text{Basics}$\n",
        "\n",
        "---\n",
        "\n"
      ]
    },
    {
      "cell_type": "markdown",
      "metadata": {
        "id": "SiZpDuohe82J"
      },
      "source": [
        "\n",
        "\n",
        "---\n",
        "\n",
        "## $\\text{Datatypes}$\n",
        "\n",
        "---\n",
        "\n"
      ]
    },
    {
      "cell_type": "markdown",
      "metadata": {
        "id": "Wq2VA_ylhRt6"
      },
      "source": [
        "> **PL Q1. Does the code below contain a string, integer, or a float?**\n",
        "\n"
      ]
    },
    {
      "cell_type": "code",
      "metadata": {
        "id": "_4ymPuZ_hQCL"
      },
      "source": [
        "\"your data here\""
      ],
      "execution_count": null,
      "outputs": []
    },
    {
      "cell_type": "code",
      "metadata": {
        "id": "5bHqbVDAhbte",
        "cellView": "form"
      },
      "source": [
        "PL_Q1 = \"\" #@param {type:\"string\"}\n",
        "\n"
      ],
      "execution_count": null,
      "outputs": []
    },
    {
      "cell_type": "markdown",
      "metadata": {
        "id": "k_pBDSnJ17dq"
      },
      "source": [
        "\n",
        "\n",
        "---\n",
        "\n",
        "## $\\text{Calculator}$\n",
        "\n",
        "---\n",
        "\n"
      ]
    },
    {
      "cell_type": "markdown",
      "metadata": {
        "id": "nNw2B13ZcVjU"
      },
      "source": [
        "> **PL Q2. Calculate $$\\left(\\frac{1}{2^5+1}\\right)*2$$ in the code block below, and write the answer in the text box:**"
      ]
    },
    {
      "cell_type": "code",
      "metadata": {
        "id": "r99RikhJcrm_"
      },
      "source": [
        "\"insert math here\""
      ],
      "execution_count": null,
      "outputs": []
    },
    {
      "cell_type": "code",
      "metadata": {
        "id": "m91rlv5hdogf",
        "cellView": "form"
      },
      "source": [
        "PL_Q2 = \"\" #@param {type:\"string\"}\n",
        "\n"
      ],
      "execution_count": null,
      "outputs": []
    },
    {
      "cell_type": "markdown",
      "metadata": {
        "id": "d66SySOP_GDL"
      },
      "source": [
        "\n",
        "\n",
        "---\n",
        "\n",
        "## $\\text{Packages}$\n",
        "\n",
        "---\n",
        "\n"
      ]
    },
    {
      "cell_type": "code",
      "metadata": {
        "id": "t5XF0CTEeruf"
      },
      "source": [
        "import numpy as np"
      ],
      "execution_count": null,
      "outputs": []
    },
    {
      "cell_type": "markdown",
      "metadata": {
        "id": "LyR-f8cVeL1D"
      },
      "source": [
        "> **PL Q3. Calculate $$\\sqrt{2}e^{-5/3}$$ in the code block below, and write the answer in the text box:**"
      ]
    },
    {
      "cell_type": "code",
      "metadata": {
        "id": "uGxbY-LmeN5p"
      },
      "source": [
        "\"insert math here\""
      ],
      "execution_count": null,
      "outputs": []
    },
    {
      "cell_type": "code",
      "metadata": {
        "id": "pB7erlxoeP_9",
        "cellView": "form"
      },
      "source": [
        "PL_Q3 = \"\" #@param {type:\"string\"}\n",
        "\n"
      ],
      "execution_count": null,
      "outputs": []
    },
    {
      "cell_type": "markdown",
      "metadata": {
        "id": "Jp-nSeeuBmGs"
      },
      "source": [
        "\n",
        "\n",
        "---\n",
        "\n",
        "# $\\text{Defining Variables}$\n",
        "\n",
        "---\n",
        "\n"
      ]
    },
    {
      "cell_type": "code",
      "metadata": {
        "id": "C7bbgCsbfS0Y"
      },
      "source": [
        "a = 3\n",
        "b = 4\n",
        "\n",
        "c = np.sqrt(a**2 + b**2)"
      ],
      "execution_count": null,
      "outputs": []
    },
    {
      "cell_type": "code",
      "metadata": {
        "id": "ZF9v7LTzfTMJ"
      },
      "source": [
        "print(c)"
      ],
      "execution_count": null,
      "outputs": []
    },
    {
      "cell_type": "markdown",
      "metadata": {
        "id": "mGA-bw1f2sQy"
      },
      "source": [
        "\n",
        "\n",
        "---\n",
        "\n",
        "# $\\text{Creating Functions}$\n",
        "\n",
        "---\n",
        "\n"
      ]
    },
    {
      "cell_type": "markdown",
      "metadata": {
        "id": "BNO49OPWxoj7"
      },
      "source": [
        "> **PL Q4.  In the code below, write a fuction ``myaverage()`` to calculate the average of two variables ``v`` and ``w``.**"
      ]
    },
    {
      "cell_type": "code",
      "metadata": {
        "id": "zT8f-sNXyFDR"
      },
      "source": [
        "def myaverage(v,w):\n",
        "  return \"insert equation here\""
      ],
      "execution_count": null,
      "outputs": []
    },
    {
      "cell_type": "markdown",
      "metadata": {
        "id": "SWwIJtoKyN7_"
      },
      "source": [
        "> **Test your function by calculting the average of $v = 13$ and $w = 91$.  Write the answer in the text box:**"
      ]
    },
    {
      "cell_type": "code",
      "metadata": {
        "id": "a6esRGUV3VgN"
      },
      "source": [
        "v = \"insert value here\"\n",
        "w = \"insert value here\"\n",
        "\n",
        "myaverage(v,w)"
      ],
      "execution_count": null,
      "outputs": []
    },
    {
      "cell_type": "code",
      "metadata": {
        "id": "wjDWNJROybon",
        "cellView": "form"
      },
      "source": [
        "PL_Q4 = \"\" #@param {type:\"string\"}\n",
        "\n"
      ],
      "execution_count": null,
      "outputs": []
    },
    {
      "cell_type": "markdown",
      "metadata": {
        "id": "wy4fsPxFKxZE"
      },
      "source": [
        "\n",
        "\n",
        "---\n",
        "\n",
        "# $\\text{Lists}$\n",
        "\n",
        "---\n",
        "\n"
      ]
    },
    {
      "cell_type": "code",
      "metadata": {
        "id": "dx9RHNbYLUCx",
        "cellView": "both"
      },
      "source": [
        "mylist = [1,2,3,4,5]"
      ],
      "execution_count": null,
      "outputs": []
    },
    {
      "cell_type": "markdown",
      "metadata": {
        "id": "UBpIjpxQoCIL"
      },
      "source": [
        "---\n",
        "---\n",
        "---"
      ]
    },
    {
      "cell_type": "code",
      "metadata": {
        "id": "FhfrKul95bL3",
        "cellView": "form"
      },
      "source": [
        "#@title <font color=\"blue\">  To receive FULL CREDIT, you MUST run this cell AFTER completing the pre-lab and upload the PDF file to HuskyCT. To access the PDF, click on the \"File\" icon in the toolbar to the left.\n",
        "!pip install reportlab==3.6.2\n",
        "import datetime\n",
        "\n",
        "from reportlab.lib import colors\n",
        "from reportlab.lib.pagesizes import letter, inch, portrait\n",
        "from reportlab.platypus import SimpleDocTemplate, Table, TableStyle, Paragraph\n",
        "from reportlab.lib.styles import getSampleStyleSheet\n",
        "\n",
        "Course_Number = \"1502Q\"\n",
        "PreLab_Number = \"PL01\"\n",
        "file_timestamp = datetime.datetime.today().strftime('%Y-%m')\n",
        "Section_Number = (Section)[0:3]\n",
        "\n",
        "doc = SimpleDocTemplate(str(file_timestamp)+\"_\"+str(Course_Number)+\n",
        "                        str(Section_Number)+\"_\"+str(PreLab_Number)+\n",
        "                        \"_\"+str(Name)+\".pdf\",\n",
        "                        pagesize=letter, rightMargin=50,\n",
        "                        leftMargin=50, topMargin=50,bottomMargin=50)\n",
        "doc.pagesize = portrait(letter)\n",
        "elements = []\n",
        "\n",
        "timestamp = datetime.datetime.now().isoformat()\n",
        "\n",
        "data = [\n",
        "[\"Name:\", Name],\n",
        "[\"timestamp:\", timestamp],\n",
        "[\"Course_Number:\", Course_Number],\n",
        "[\"Section_Number:\", Section_Number],\n",
        "[\"PreLab_Number:\", PreLab_Number],\n",
        "[\"PL Q1:\", PL_Q1],\n",
        "[\"PL Q2:\", PL_Q2],\n",
        "[\"PL Q3:\", PL_Q3],\n",
        "[\"PL Q4:\", PL_Q4],\n",
        "#[\"Q5:\", Q5],\n",
        "]\n",
        "\n",
        "#TODO: Get this line right instead of just copying it from the docs\n",
        "style = TableStyle([('ALIGN',(1,1),(-2,-2),'RIGHT'),\n",
        "                       ('TEXTCOLOR',(1,1),(-2,-2),colors.red),\n",
        "                       ('VALIGN',(0,0),(0,-1),'TOP'),\n",
        "                       ('TEXTCOLOR',(0,0),(0,-1),colors.blue),\n",
        "                       ('ALIGN',(0,-1),(-1,-1),'CENTER'),\n",
        "                       ('VALIGN',(0,-1),(-1,-1),'MIDDLE'),\n",
        "                       ('TEXTCOLOR',(0,-1),(-1,-1),colors.green),\n",
        "                       ('INNERGRID', (0,0), (-1,-1), 0.25, colors.black),\n",
        "                       ('BOX', (0,0), (-1,-1), 0.25, colors.black),\n",
        "                       ])\n",
        "\n",
        "#Configure style and word wrap\n",
        "s = getSampleStyleSheet()\n",
        "s = s[\"BodyText\"]\n",
        "s.wordWrap = 'CJK'\n",
        "data2 = [[Paragraph(cell, s) for cell in row] for row in data]\n",
        "t=Table(data2,colWidths=(100,None))\n",
        "t.setStyle(style)\n",
        "\n",
        "#Send the data and build the file\n",
        "elements.append(t)\n",
        "doc.build(elements)"
      ],
      "execution_count": null,
      "outputs": []
    },
    {
      "cell_type": "markdown",
      "metadata": {
        "id": "xv1AVh_nonyv"
      },
      "source": [
        "\n",
        "### <font color=\"black\"> $\\text{ }$\n"
      ]
    },
    {
      "cell_type": "markdown",
      "metadata": {
        "id": "X0GLUykSonyx"
      },
      "source": [
        "*"
      ]
    }
  ]
}